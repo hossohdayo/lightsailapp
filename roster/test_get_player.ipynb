{
 "cells": [
  {
   "cell_type": "code",
   "execution_count": 1,
   "metadata": {},
   "outputs": [],
   "source": [
    "import requests\n",
    "from bs4 import BeautifulSoup"
   ]
  },
  {
   "cell_type": "code",
   "execution_count": 2,
   "metadata": {},
   "outputs": [],
   "source": [
    "import datetime"
   ]
  },
  {
   "cell_type": "code",
   "execution_count": 3,
   "metadata": {
    "scrolled": true
   },
   "outputs": [
    {
     "name": "stdout",
     "output_type": "stream",
     "text": [
      "0424\n"
     ]
    }
   ],
   "source": [
    "# 本日の日付を取得\n",
    "todaｙ = datetime.date.today()\n",
    "mmｄｄ = todaｙ.strftime(\"%m%d\")\n",
    "#mmｄｄ = \"0420\"\n",
    "print(mmdd) # MMDDの形式で表示"
   ]
  },
  {
   "cell_type": "code",
   "execution_count": 4,
   "metadata": {},
   "outputs": [],
   "source": [
    "# 日付を変数にして代入\n",
    "url_date = 'https://npb.jp/announcement/roster/roster_' + mmdd + '.html'\n",
    "url = requests.get(url_date)"
   ]
  },
  {
   "cell_type": "code",
   "execution_count": 5,
   "metadata": {},
   "outputs": [],
   "source": [
    "data = BeautifulSoup(url.content, 'html.parser')"
   ]
  },
  {
   "cell_type": "code",
   "execution_count": 6,
   "metadata": {},
   "outputs": [],
   "source": [
    "data_three_column_right = data.select('.three_column_right')"
   ]
  },
  {
   "cell_type": "code",
   "execution_count": 7,
   "metadata": {},
   "outputs": [
    {
     "ename": "IndexError",
     "evalue": "list index out of range",
     "output_type": "error",
     "traceback": [
      "\u001b[0;31m---------------------------------------------------------------------------\u001b[0m",
      "\u001b[0;31mIndexError\u001b[0m                                Traceback (most recent call last)",
      "\u001b[0;32m<ipython-input-7-09d5c1820829>\u001b[0m in \u001b[0;36m<module>\u001b[0;34m\u001b[0m\n\u001b[0;32m----> 1\u001b[0;31m \u001b[0mdata_lions\u001b[0m \u001b[0;34m=\u001b[0m \u001b[0mdata_three_column_right\u001b[0m\u001b[0;34m[\u001b[0m\u001b[0;36m2\u001b[0m\u001b[0;34m]\u001b[0m\u001b[0;34m\u001b[0m\u001b[0;34m\u001b[0m\u001b[0m\n\u001b[0m",
      "\u001b[0;31mIndexError\u001b[0m: list index out of range"
     ]
    }
   ],
   "source": [
    "data_lions = data_three_column_right[2]"
   ]
  },
  {
   "cell_type": "code",
   "execution_count": 12,
   "metadata": {},
   "outputs": [
    {
     "name": "stdout",
     "output_type": "stream",
     "text": [
      "<div class=\"three_column_right\">\n",
      "<h5 class=\"team_l_2021\">埼玉西武ライオンズ</h5>\n",
      "<div class=\"table_normal_noborder\">\n",
      "<table>\n",
      "<tr>\n",
      "<td class=\"pos\">投手</td>\n",
      "<td class=\"num\">11</td>\n",
      "<td class=\"name\">\n",
      "<a href=\"/bis/players/31335134.html\">今井　達也</a> </td>\n",
      "</tr>\n",
      "<tr>\n",
      "<td class=\"pos\">投手</td>\n",
      "<td class=\"num\">13</td>\n",
      "<td class=\"name\">\n",
      "<a href=\"/bis/players/71075130.html\">髙橋　光成</a> </td>\n",
      "</tr>\n",
      "<tr>\n",
      "<td class=\"pos\">投手</td>\n",
      "<td class=\"num\">14</td>\n",
      "<td class=\"name\">\n",
      "<a href=\"/bis/players/71275137.html\">増田　達至</a> </td>\n",
      "</tr>\n",
      "<tr>\n",
      "<td class=\"pos\">投手</td>\n",
      "<td class=\"num\">15</td>\n",
      "<td class=\"name\">\n",
      "<a href=\"/bis/players/51855151.html\">宮川　哲</a> </td>\n",
      "</tr>\n",
      "<tr>\n",
      "<td class=\"pos\">投手</td>\n",
      "<td class=\"num\">17</td>\n",
      "<td class=\"name\">\n",
      "<a href=\"/bis/players/81685138.html\">松本　航</a> </td>\n",
      "</tr>\n",
      "<tr>\n",
      "<td class=\"pos\">投手</td>\n",
      "<td class=\"num\">21</td>\n",
      "<td class=\"name\">\n",
      "<a href=\"/bis/players/91295135.html\">十亀　剣</a> </td>\n",
      "</tr>\n",
      "<tr>\n",
      "<td class=\"pos\">投手</td>\n",
      "<td class=\"num\">25</td>\n",
      "<td class=\"name\">\n",
      "<a href=\"/bis/players/91695134.html\">平井　克典</a> </td>\n",
      "</tr>\n",
      "<tr>\n",
      "<td class=\"pos\">投手</td>\n",
      "<td class=\"num\">33</td>\n",
      "<td class=\"name\">\n",
      "<a href=\"/bis/players/03305151.html\">Ｒ．ギャレット</a> </td>\n",
      "</tr>\n",
      "<tr>\n",
      "<td class=\"pos\">投手</td>\n",
      "<td class=\"num\">34</td>\n",
      "<td class=\"name\">\n",
      "<a href=\"/bis/players/01905130.html\">佐野　泰雄</a> </td>\n",
      "</tr>\n",
      "<tr>\n",
      "<td class=\"pos\">投手</td>\n",
      "<td class=\"num\">36</td>\n",
      "<td class=\"name\">\n",
      "<a href=\"/bis/players/11315136.html\">伊藤　翔</a> </td>\n",
      "</tr>\n",
      "<tr>\n",
      "<td class=\"pos\">投手</td>\n",
      "<td class=\"num\">40</td>\n",
      "<td class=\"name\">\n",
      "<a href=\"/bis/players/01205134.html\">田村　伊知郎</a> </td>\n",
      "</tr>\n",
      "<tr>\n",
      "<td class=\"pos\">投手</td>\n",
      "<td class=\"num\">48</td>\n",
      "<td class=\"name\">\n",
      "<a href=\"/bis/players/41945116.html\">武隈　祥太</a> </td>\n",
      "</tr>\n",
      "<tr>\n",
      "<td class=\"pos\">投手</td>\n",
      "<td class=\"num\">61</td>\n",
      "<td class=\"name\">\n",
      "<a href=\"/bis/players/31035136.html\">平良　海馬</a> </td>\n",
      "</tr>\n",
      "<tr>\n",
      "<td class=\"pos\">投手</td>\n",
      "<td class=\"num\">64</td>\n",
      "<td class=\"name\">\n",
      "<a href=\"/bis/players/21325151.html\">上間　永遠</a> </td>\n",
      "</tr>\n",
      "<tr>\n",
      "<td class=\"pos\">捕手</td>\n",
      "<td class=\"num\">2</td>\n",
      "<td class=\"name\">\n",
      "<a href=\"/bis/players/31535139.html\">岡田　雅利</a> </td>\n",
      "</tr>\n",
      "<tr>\n",
      "<td class=\"pos\">捕手</td>\n",
      "<td class=\"num\">10</td>\n",
      "<td class=\"name\">\n",
      "<a href=\"/bis/players/91495139.html\">森　友哉</a> </td>\n",
      "</tr>\n",
      "<tr>\n",
      "<td class=\"pos\">捕手</td>\n",
      "<td class=\"num\">37</td>\n",
      "<td class=\"name\">\n",
      "<a href=\"/bis/players/61265151.html\">柘植　世那</a> </td>\n",
      "</tr>\n",
      "<tr>\n",
      "<td class=\"pos\">内野手</td>\n",
      "<td class=\"num\">6</td>\n",
      "<td class=\"name\">\n",
      "<a href=\"/bis/players/71775134.html\">源田　壮亮</a> </td>\n",
      "</tr>\n",
      "<tr>\n",
      "<td class=\"pos\">内野手</td>\n",
      "<td class=\"num\">31</td>\n",
      "<td class=\"name\">\n",
      "<a href=\"/bis/players/81785138.html\">佐藤　龍世</a> </td>\n",
      "</tr>\n",
      "<tr>\n",
      "<td class=\"pos\">内野手</td>\n",
      "<td class=\"num\">39</td>\n",
      "<td class=\"name\">\n",
      "<a href=\"/bis/players/21325132.html\">呉　念庭</a> </td>\n",
      "</tr>\n",
      "<tr>\n",
      "<td class=\"pos\">内野手</td>\n",
      "<td class=\"num\">49</td>\n",
      "<td class=\"name\">\n",
      "<a href=\"/bis/players/91295153.html\">ブランドン</a> </td>\n",
      "</tr>\n",
      "<tr>\n",
      "<td class=\"pos\">内野手</td>\n",
      "<td class=\"num\">52</td>\n",
      "<td class=\"name\">\n",
      "<a href=\"/bis/players/13115130.html\">山田　遥楓</a> </td>\n",
      "</tr>\n",
      "<tr>\n",
      "<td class=\"pos\">内野手</td>\n",
      "<td class=\"num\">60</td>\n",
      "<td class=\"name\">\n",
      "<a href=\"/bis/players/81085115.html\">中村　剛也</a> </td>\n",
      "</tr>\n",
      "<tr>\n",
      "<td class=\"pos\">外野手</td>\n",
      "<td class=\"num\">1</td>\n",
      "<td class=\"name\">\n",
      "<a href=\"/bis/players/51755115.html\">栗山　巧</a> </td>\n",
      "</tr>\n",
      "<tr>\n",
      "<td class=\"pos\">外野手</td>\n",
      "<td class=\"num\">7</td>\n",
      "<td class=\"name\">\n",
      "<a href=\"/bis/players/01505137.html\">金子　侑司</a> </td>\n",
      "</tr>\n",
      "<tr>\n",
      "<td class=\"pos\">外野手</td>\n",
      "<td class=\"num\">35</td>\n",
      "<td class=\"name\">\n",
      "<a href=\"/bis/players/53555153.html\">若林　楽人</a> </td>\n",
      "</tr>\n",
      "<tr>\n",
      "<td class=\"pos\">外野手</td>\n",
      "<td class=\"num\">46</td>\n",
      "<td class=\"name\">\n",
      "<a href=\"/bis/players/31035134.html\">鈴木　将平</a> </td>\n",
      "</tr>\n",
      "<tr>\n",
      "<td class=\"pos\">外野手</td>\n",
      "<td class=\"num\">51</td>\n",
      "<td class=\"name\">\n",
      "<a href=\"/bis/players/51455136.html\">西川　愛也</a> </td>\n",
      "</tr>\n",
      "<tr>\n",
      "<td class=\"pos\">外野手</td>\n",
      "<td class=\"num\">53</td>\n",
      "<td class=\"name\">\n",
      "<a href=\"/bis/players/31535132.html\">愛斗</a> </td>\n",
      "</tr>\n",
      "<tr>\n",
      "<td class=\"pos\">外野手</td>\n",
      "<td class=\"num\">58</td>\n",
      "<td class=\"name\">\n",
      "<a href=\"/bis/players/21725133.html\">熊代　聖人</a> </td>\n",
      "</tr>\n",
      "</table>\n",
      "</div>\n",
      "<p class=\"note\">以上30名</p>\n",
      "</div>\n"
     ]
    }
   ],
   "source": [
    "print(data_lions)"
   ]
  },
  {
   "cell_type": "code",
   "execution_count": 13,
   "metadata": {},
   "outputs": [],
   "source": [
    "# ポジションを抽出\n",
    "pos_array = data_lions.select('.pos')\n",
    "# 背番号を抽出\n",
    "num_array = data_lions.select('.num')\n",
    "# 選手名を抽出\n",
    "name_array = data_lions.select('a')"
   ]
  },
  {
   "cell_type": "code",
   "execution_count": 14,
   "metadata": {},
   "outputs": [
    {
     "name": "stdout",
     "output_type": "stream",
     "text": [
      "投手\n",
      "投手\n",
      "投手\n",
      "投手\n",
      "投手\n",
      "投手\n",
      "投手\n",
      "投手\n",
      "投手\n",
      "投手\n",
      "投手\n",
      "投手\n",
      "投手\n",
      "投手\n",
      "捕手\n",
      "捕手\n",
      "捕手\n",
      "内野手\n",
      "内野手\n",
      "内野手\n",
      "内野手\n",
      "内野手\n",
      "内野手\n",
      "外野手\n",
      "外野手\n",
      "外野手\n",
      "外野手\n",
      "外野手\n",
      "外野手\n",
      "外野手\n",
      "11\n",
      "13\n",
      "14\n",
      "15\n",
      "17\n",
      "21\n",
      "25\n",
      "33\n",
      "34\n",
      "36\n",
      "40\n",
      "48\n",
      "61\n",
      "64\n",
      "2\n",
      "10\n",
      "37\n",
      "6\n",
      "31\n",
      "39\n",
      "49\n",
      "52\n",
      "60\n",
      "1\n",
      "7\n",
      "35\n",
      "46\n",
      "51\n",
      "53\n",
      "58\n",
      "今井　達也\n",
      "髙橋　光成\n",
      "増田　達至\n",
      "宮川　哲\n",
      "松本　航\n",
      "十亀　剣\n",
      "平井　克典\n",
      "Ｒ．ギャレット\n",
      "佐野　泰雄\n",
      "伊藤　翔\n",
      "田村　伊知郎\n",
      "武隈　祥太\n",
      "平良　海馬\n",
      "上間　永遠\n",
      "岡田　雅利\n",
      "森　友哉\n",
      "柘植　世那\n",
      "源田　壮亮\n",
      "佐藤　龍世\n",
      "呉　念庭\n",
      "ブランドン\n",
      "山田　遥楓\n",
      "中村　剛也\n",
      "栗山　巧\n",
      "金子　侑司\n",
      "若林　楽人\n",
      "鈴木　将平\n",
      "西川　愛也\n",
      "愛斗\n",
      "熊代　聖人\n"
     ]
    }
   ],
   "source": [
    "for pos in pos_array:\n",
    "    print(pos.getText())\n",
    "for num in num_array:\n",
    "    print(num.getText())\n",
    "for name in name_array:\n",
    "    print(name.getText())"
   ]
  },
  {
   "cell_type": "code",
   "execution_count": 15,
   "metadata": {},
   "outputs": [
    {
     "name": "stdout",
     "output_type": "stream",
     "text": [
      "90\n"
     ]
    }
   ],
   "source": [
    "print(len(pos_array) + len(num_array) + len(name_array))"
   ]
  },
  {
   "cell_type": "code",
   "execution_count": 16,
   "metadata": {},
   "outputs": [],
   "source": [
    "import os\n",
    "import sys\n",
    "filepath = './roster.txt'"
   ]
  },
  {
   "cell_type": "code",
   "execution_count": 17,
   "metadata": {},
   "outputs": [
    {
     "name": "stdout",
     "output_type": "stream",
     "text": [
      "ファイル存在確認OK\n"
     ]
    }
   ],
   "source": [
    "# rosterファイル存在確認\n",
    "if os.path.isfile(filepath) == 0:\n",
    "    sys.exit(1)\n",
    "else:\n",
    "    print('ファイル存在確認OK')"
   ]
  },
  {
   "cell_type": "code",
   "execution_count": 40,
   "metadata": {},
   "outputs": [
    {
     "name": "stdout",
     "output_type": "stream",
     "text": [
      "今井　達也,髙橋　光成,増田　達至,宮川　哲,松本　航,十亀　剣,平井　克典,Ｒ．ギャレット,佐野　泰雄,伊藤　翔,田村　伊知郎,武隈　祥太,平良　海馬,上間　永遠\n",
      "岡田　雅利,森　友哉,柘植　世那\n",
      "源田　壮亮,佐藤　龍世,呉　念庭,ブランドン,山田　遥楓,中村　剛也\n",
      "栗山　巧,金子　侑司,若林　楽人,鈴木　将平,西川　愛也,愛斗,熊代　聖人\n"
     ]
    }
   ],
   "source": [
    "# 0バイト書き込み\n",
    "with open(filepath, mode='w') as f:\n",
    "        f.write('')\n",
    "# position,num,nameでroster_listを作成\n",
    "roster_pitcher = roster_catcher = roster_infielder = roster_outfielder = ''\n",
    "for i in range(len(pos_array)):\n",
    "    if pos_array[i].getText() == '投手':\n",
    "        roster_pitcher += name_array[i].getText() + \",\"\n",
    "    elif pos_array[i].getText() == '捕手':\n",
    "        roster_catcher += name_array[i].getText() + \",\"\n",
    "    elif pos_array[i].getText() == '内野手':\n",
    "        roster_infielder += name_array[i].getText() + \",\"\n",
    "    elif pos_array[i].getText() == '外野手':\n",
    "        roster_outfielder += name_array[i].getText() + \",\"\n",
    "roster_list = roster_pitcher[:-1] + '\\n'\n",
    "roster_list += roster_catcher[:-1] + '\\n'\n",
    "roster_list += roster_infielder[:-1] + '\\n'\n",
    "roster_list += roster_outfielder[:-1]\n",
    "print(roster_list)\n",
    "# for i in range(len(pos_array)):\n",
    "#     roster_list = pos_array[i].getText() + \",\" + num_array[i].getText() + \",\" + name_array[i].getText() + \"\\n\"\n",
    "#     print(pos_array[i].getText() + \",\" + num_array[i].getText() + \",\" + name_array[i].getText())\n",
    "#     # ファイル書き込み\n",
    "with open(filepath, mode='a') as f:\n",
    "    f.write(roster_list)"
   ]
  },
  {
   "cell_type": "code",
   "execution_count": 41,
   "metadata": {},
   "outputs": [
    {
     "name": "stdout",
     "output_type": "stream",
     "text": [
      "今井　達也,髙橋　光成,増田　達至,宮川　哲,松本　航,十亀　剣,平井　克典,Ｒ．ギャレット,佐野　泰雄,伊藤　翔,田村　伊知郎,武隈　祥太,平良　海馬,上間　永遠\n",
      "岡田　雅利,森　友哉,柘植　世那\n",
      "源田　壮亮,佐藤　龍世,呉　念庭,ブランドン,山田　遥楓,中村　剛也\n",
      "栗山　巧,金子　侑司,若林　楽人,鈴木　将平,西川　愛也,愛斗,熊代　聖人\n"
     ]
    }
   ],
   "source": [
    "with open(filepath) as f:\n",
    "    print(f.read())"
   ]
  },
  {
   "cell_type": "code",
   "execution_count": null,
   "metadata": {},
   "outputs": [],
   "source": []
  },
  {
   "cell_type": "code",
   "execution_count": null,
   "metadata": {},
   "outputs": [],
   "source": []
  },
  {
   "cell_type": "code",
   "execution_count": 11,
   "metadata": {},
   "outputs": [
    {
     "name": "stdout",
     "output_type": "stream",
     "text": [
      "[]\n",
      "error\n"
     ]
    }
   ],
   "source": [
    "print(data_three_column_right)\n",
    "if data_three_column_right == []:\n",
    "    print('error')"
   ]
  },
  {
   "cell_type": "code",
   "execution_count": null,
   "metadata": {},
   "outputs": [],
   "source": []
  },
  {
   "cell_type": "code",
   "execution_count": null,
   "metadata": {},
   "outputs": [],
   "source": []
  },
  {
   "cell_type": "code",
   "execution_count": null,
   "metadata": {},
   "outputs": [],
   "source": []
  }
 ],
 "metadata": {
  "kernelspec": {
   "display_name": "Python 3",
   "language": "python",
   "name": "python3"
  },
  "language_info": {
   "codemirror_mode": {
    "name": "ipython",
    "version": 3
   },
   "file_extension": ".py",
   "mimetype": "text/x-python",
   "name": "python",
   "nbconvert_exporter": "python",
   "pygments_lexer": "ipython3",
   "version": "3.7.6"
  }
 },
 "nbformat": 4,
 "nbformat_minor": 4
}
