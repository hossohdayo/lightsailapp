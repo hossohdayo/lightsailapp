{
 "cells": [
  {
   "cell_type": "code",
   "execution_count": 8,
   "metadata": {},
   "outputs": [],
   "source": [
    "# モジュールのインポート\n",
    "import json\n",
    "import os\n",
    "import sys\n",
    "import tweepy\n",
    "import datetime"
   ]
  },
  {
   "cell_type": "code",
   "execution_count": 9,
   "metadata": {},
   "outputs": [
    {
     "name": "stdout",
     "output_type": "stream",
     "text": [
      "ファイル存在確認OK\n"
     ]
    }
   ],
   "source": [
    "filepath = './config.json'\n",
    "# configファイル存在確認\n",
    "if os.path.isfile(filepath) == 0:\n",
    "    sys.exit(1)\n",
    "else:\n",
    "    print('ファイル存在確認OK')"
   ]
  },
  {
   "cell_type": "code",
   "execution_count": 10,
   "metadata": {},
   "outputs": [],
   "source": [
    "# ファイルを開く\n",
    "json_file = open('./config.json', 'r')\n",
    "# JSONとして読み込む\n",
    "json_obj = json.load(json_file)\n",
    "\n",
    "#　値の取り出し\n",
    "CONSUMER_KEY        = json_obj['api_key']['CONSUMER_KEY']\n",
    "CONSUMER_SECRET     = json_obj['api_key']['CONSUMER_SECRET']\n",
    "ACCESS_TOKEN        = json_obj['api_key']['ACCESS_TOKEN']\n",
    "ACCESS_TOKEN_SECRET = json_obj['api_key']['ACCESS_TOKEN_SECRET']"
   ]
  },
  {
   "cell_type": "code",
   "execution_count": 11,
   "metadata": {},
   "outputs": [],
   "source": [
    "# print(CONSUMER_KEY)\n",
    "# print(CONSUMER_SECRET)\n",
    "# print(ACCESS_TOKEN)\n",
    "# print(ACCESS_TOKEN_SECRET)"
   ]
  },
  {
   "cell_type": "code",
   "execution_count": 12,
   "metadata": {},
   "outputs": [],
   "source": [
    "auth = tweepy.OAuthHandler(CONSUMER_KEY, CONSUMER_SECRET)\n",
    "auth.set_access_token(ACCESS_TOKEN, ACCESS_TOKEN_SECRET)\n",
    "api = tweepy.API(auth)"
   ]
  },
  {
   "cell_type": "code",
   "execution_count": 13,
   "metadata": {},
   "outputs": [
    {
     "name": "stdout",
     "output_type": "stream",
     "text": [
      "ファイル存在確認OK\n"
     ]
    }
   ],
   "source": [
    "filepath = './roster.txt'\n",
    "# rosterファイル存在確認\n",
    "if os.path.isfile(filepath) == 0:\n",
    "    sys.exit(1)\n",
    "else:\n",
    "    print('ファイル存在確認OK')"
   ]
  },
  {
   "cell_type": "code",
   "execution_count": 16,
   "metadata": {},
   "outputs": [
    {
     "name": "stdout",
     "output_type": "stream",
     "text": [
      "['今井\\u3000達也,髙橋\\u3000光成,増田\\u3000達至,宮川\\u3000哲,松本\\u3000航,十亀\\u3000剣,平井\\u3000克典,Ｒ．ギャレット,佐野\\u3000泰雄,伊藤\\u3000翔,田村\\u3000伊知郎,武隈\\u3000祥太,平良\\u3000海馬,上間\\u3000永遠\\n', '岡田\\u3000雅利,森\\u3000友哉,柘植\\u3000世那\\n']\n",
      "['源田\\u3000壮亮,佐藤\\u3000龍世,呉\\u3000念庭,ブランドン,山田\\u3000遥楓,中村\\u3000剛也\\n', '栗山\\u3000巧,金子\\u3000侑司,若林\\u3000楽人,鈴木\\u3000将平,西川\\u3000愛也,愛斗,熊代\\u3000聖人']\n",
      "04/21出場選手登録\n",
      "今井　達也,髙橋　光成,増田　達至,宮川　哲,松本　航,十亀　剣,平井　克典,Ｒ．ギャレット,佐野　泰雄,伊藤　翔,田村　伊知郎,武隈　祥太,平良　海馬,上間　永遠\n",
      "岡田　雅利,森　友哉,柘植　世那\n",
      "源田　壮亮,佐藤　龍世,呉　念庭,ブランドン,山田　遥楓,中村　剛也\n",
      "栗山　巧,金子　侑司,若林　楽人,鈴木　将平,西川　愛也,愛斗,熊代　聖人\n"
     ]
    }
   ],
   "source": [
    "with open(filepath) as f:\n",
    "    pitcher_catcher = f.readlines()[0:2]\n",
    "with open(filepath) as f:\n",
    "    infilder_outfilder = f.readlines()[2:4]\n",
    "print(pitcher_catcher)\n",
    "print(infilder_outfilder)\n",
    "todaｙ = datetime.date.today()\n",
    "mmｄｄ = todaｙ.strftime(\"%m/%d\")\n",
    "tweet_content1 = mmｄｄ + '出場選手登録\\n'\n",
    "tweet_content2 = ''\n",
    "for p_c in pitcher_catcher:\n",
    "    tweet_content1 += p_c\n",
    "    #print(p_c, end='')\n",
    "for i_o in infilder_outfilder:\n",
    "    tweet_content2 += i_o\n",
    "    #print(i_o, end='')\n",
    "# 末尾の改行コードを削除\n",
    "tweet_content1 = tweet_content1.rstrip('\\n')\n",
    "print(tweet_content1)\n",
    "print(tweet_content2)"
   ]
  },
  {
   "cell_type": "code",
   "execution_count": 19,
   "metadata": {},
   "outputs": [
    {
     "name": "stdout",
     "output_type": "stream",
     "text": [
      "140字以内OK\n"
     ]
    }
   ],
   "source": [
    "# 140文字以内であることを確認\n",
    "if len(tweet_content1) > 140:\n",
    "    print('tweet_content1が140字を超過しています')\n",
    "    sys.exit(2)\n",
    "elif len(tweet_content2) > 140:\n",
    "    print('tweet_content2が140字を超過しています')\n",
    "    sys.exit(2)\n",
    "else:\n",
    "    print('140字以内OK')"
   ]
  },
  {
   "cell_type": "code",
   "execution_count": 20,
   "metadata": {},
   "outputs": [],
   "source": [
    "# Tweet\n",
    "post_tweet = api.update_status(tweet_content1)"
   ]
  },
  {
   "cell_type": "code",
   "execution_count": 21,
   "metadata": {},
   "outputs": [
    {
     "name": "stdout",
     "output_type": "stream",
     "text": [
      "1384865735147675648\n"
     ]
    }
   ],
   "source": [
    "tweet_obj = api.get_status(post_tweet.id)\n",
    "#print(tweet_obj.id)\n",
    "print(post_tweet.id)"
   ]
  },
  {
   "cell_type": "code",
   "execution_count": 22,
   "metadata": {},
   "outputs": [],
   "source": [
    "# リプライ形式でTweet\n",
    "post_reply_tweet = api.update_status(tweet_content2, post_tweet.id)"
   ]
  },
  {
   "cell_type": "code",
   "execution_count": null,
   "metadata": {},
   "outputs": [],
   "source": []
  }
 ],
 "metadata": {
  "kernelspec": {
   "display_name": "Python 3",
   "language": "python",
   "name": "python3"
  },
  "language_info": {
   "codemirror_mode": {
    "name": "ipython",
    "version": 3
   },
   "file_extension": ".py",
   "mimetype": "text/x-python",
   "name": "python",
   "nbconvert_exporter": "python",
   "pygments_lexer": "ipython3",
   "version": "3.7.6"
  }
 },
 "nbformat": 4,
 "nbformat_minor": 4
}
